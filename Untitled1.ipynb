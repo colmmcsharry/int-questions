{
 "cells": [
  {
   "cell_type": "markdown",
   "metadata": {},
   "source": [
    "Create a function finalGrade, which calculates the final grade of a student depending on two parameters: a grade for the exam and a number of completed projects.\n",
    "\n",
    "This function should take two arguments: exam - grade for exam (from 0 to 100); projects - number of completed projects (from 0 and above);\n",
    "\n",
    "This function should return a number (final grade). There are four types of final grades:\n",
    "\n",
    "100, if a grade for the exam is more than 90 or if a number of completed projects more than 10.\n",
    "90, if a grade for the exam is more than 75 and if a number of completed projects is minimum 5.\n",
    "75, if a grade for the exam is more than 50 and if a number of completed projects is minimum 2.\n",
    "0, in other cases\n",
    "Examples:final_grade(100, 12)  # 100\n",
    "final_grade(99, 0)    # 100\n",
    "final_grade(10, 15)   # 100\n",
    "\n",
    "use comparison operators*\n"
   ]
  },
  {
   "cell_type": "code",
   "execution_count": null,
   "metadata": {},
   "outputs": [],
   "source": [
    "def final_grade(exam, projects):\n",
    "    return # final grade\n",
    "\n"
   ]
  },
  {
   "cell_type": "code",
   "execution_count": null,
   "metadata": {},
   "outputs": [],
   "source": []
  }
 ],
 "metadata": {
  "kernelspec": {
   "display_name": "Python 3",
   "language": "python",
   "name": "python3"
  },
  "language_info": {
   "codemirror_mode": {
    "name": "ipython",
    "version": 3
   },
   "file_extension": ".py",
   "mimetype": "text/x-python",
   "name": "python",
   "nbconvert_exporter": "python",
   "pygments_lexer": "ipython3",
   "version": "3.7.1"
  }
 },
 "nbformat": 4,
 "nbformat_minor": 2
}
